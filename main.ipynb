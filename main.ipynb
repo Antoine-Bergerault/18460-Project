{
 "cells": [
  {
   "cell_type": "markdown",
   "id": "d6cd9bce",
   "metadata": {},
   "source": [
    "# 18460 Project"
   ]
  },
  {
   "cell_type": "code",
   "execution_count": 1,
   "id": "9ba57170",
   "metadata": {},
   "outputs": [],
   "source": [
    "from client import *\n",
    "from math import sqrt\n",
    "import matplotlib.pyplot as plt\n",
    "import numpy as np\n",
    "from problem import *\n",
    "from server import *"
   ]
  },
  {
   "cell_type": "markdown",
   "id": "46f68e3c",
   "metadata": {},
   "source": [
    "First, we load the dataset and partition it"
   ]
  },
  {
   "cell_type": "code",
   "execution_count": 2,
   "id": "61bf9292",
   "metadata": {},
   "outputs": [
    {
     "data": {
      "image/png": "[encoded data removed]",
      "text/plain": [
       "<Figure size 640x480 with 1 Axes>"
      ]
     },
     "metadata": {},
     "output_type": "display_data"
    }
   ],
   "source": [
    "# TODO: load (and format) and partition dataset\n",
    "\n",
    "# Example: Linear regression\n",
    "x = np.linspace(0, 100, num=200)\n",
    "y = 2*x + 30\n",
    "\n",
    "points = np.stack((x, y), axis=-1)\n",
    "\n",
    "dataset = points + 4*np.random.standard_normal(points.shape) # add noise to points\n",
    "\n",
    "plt.scatter(dataset[:, 0], dataset[:, 1], s=1)\n",
    "\n",
    "partitions = dataset.reshape((10, 20, 2)) # 10 clients with 20 points each"
   ]
  },
  {
   "cell_type": "markdown",
   "id": "e067e65f",
   "metadata": {},
   "source": [
    "Then, we define our optimization problem"
   ]
  },
  {
   "cell_type": "code",
   "execution_count": 3,
   "id": "03a66131",
   "metadata": {},
   "outputs": [],
   "source": [
    "# TODO: define cost functions and optimization hyperparameters\n",
    "\n",
    "hyper_parameters = {\n",
    "    \"penalty\": 10,\n",
    "    \"x0\": np.random.standard_normal((2, 1)) # one multiplicative term and one bias term\n",
    "}\n",
    "\n",
    "# simple linear regression cost (mean squarred error loss)\n",
    "def cost(x, dataset, params):\n",
    "    m = x[0]\n",
    "    b = x[1]\n",
    "    \n",
    "    preimages = dataset[:, 0] # x-coordinate of points\n",
    "    images = dataset[:, 1] # y-coordinate of points\n",
    "    \n",
    "    prediction = m*preimages + b\n",
    "    \n",
    "    return np.sum((prediction - images)**2) / len(dataset)\n",
    "\n",
    "def cost_grad(x, dataset, params):\n",
    "    m = x[0]\n",
    "    b = x[1]\n",
    "    \n",
    "    preimages = dataset[:, 0] # x-coordinate of points\n",
    "    images = dataset[:, 1] # y-coordinate of points\n",
    "    \n",
    "    prediction = m*preimages + b\n",
    "    \n",
    "    grad = np.array([\n",
    "        np.sum(2*preimages*(prediction - images)),\n",
    "        np.sum(2*(prediction - images))\n",
    "    ]) / len(dataset)\n",
    "    \n",
    "    return grad[:, None] # make sure to return something with shape (2, 1)\n",
    "\n",
    "def cost_hessian(x, dataset, params):\n",
    "    m = x[0]\n",
    "    b = x[1]\n",
    "    \n",
    "    preimages = dataset[:, 0] # x-coordinate of points\n",
    "    images = dataset[:, 1] # y-coordinate of points\n",
    "\n",
    "    hessian = np.array([\n",
    "        [np.sum(2*(preimages**2)), np.sum(2*preimages)],\n",
    "        [np.sum(2*preimages),           2*len(dataset)]\n",
    "    ]) / len(dataset)\n",
    "    \n",
    "    return hessian\n",
    "\n",
    "problem = OptimizationProblem(tol=1e-4, ctol=1e-6, max_iter=100000, lr=0.0001, loss=cost, loss_grad=cost_grad, \n",
    "                              loss_hessian=cost_hessian, hyper_parameters=hyper_parameters)"
   ]
  },
  {
   "cell_type": "markdown",
   "id": "fb1f0fc6",
   "metadata": {},
   "source": [
    "Solve iteratively using federated learning"
   ]
  },
  {
   "cell_type": "code",
   "execution_count": 4,
   "id": "3c0da685",
   "metadata": {
    "scrolled": false
   },
   "outputs": [
    {
     "name": "stdout",
     "output_type": "stream",
     "text": [
      "\n",
      "        Iteration 0: [ 0.77370931 -1.36572061]\n",
      "        Cost: 9872.663907966384\n",
      "\n",
      "        \n",
      "\n",
      "        Iteration 5000: [2.86509991 1.2876152 ]\n",
      "        Cost: 990.9871482992822\n",
      "\n",
      "        \n",
      "\n",
      "        Iteration 10000: [2.78615958 3.69628064]\n",
      "        Cost: 831.7041949845678\n",
      "\n",
      "        \n",
      "\n",
      "        Iteration 15000: [2.71147695 5.97800881]\n",
      "        Cost: 695.2808484570563\n",
      "\n",
      "        \n",
      "\n",
      "        Iteration 20000: [2.64073953 8.13906292]\n",
      "        Cost: 578.775949318731\n",
      "\n",
      "        \n",
      "\n",
      "        Iteration 25000: [ 2.57375603 10.18535921]\n",
      "        Cost: 479.85548343772314\n",
      "\n",
      "        \n",
      "\n",
      "        Iteration 30000: [ 2.5103445 12.1225367]\n",
      "        Cost: 396.4312311884369\n",
      "\n",
      "        \n",
      "\n",
      "        Iteration 35000: [ 2.45033141 13.95596983]\n",
      "        Cost: 326.6351842135122\n",
      "\n",
      "        \n",
      "\n",
      "        Iteration 40000: [ 2.39355121 15.69078033]\n",
      "        Cost: 268.7978548386975\n",
      "\n",
      "        \n",
      "\n",
      "        Iteration 45000: [ 2.33984605 17.33184859]\n",
      "        Cost: 221.42863152088822\n",
      "\n",
      "        \n",
      "\n",
      "        Iteration 50000: [ 2.28906537 18.88382447]\n",
      "        Cost: 183.1979875477482\n",
      "\n",
      "        \n",
      "\n",
      "        Iteration 55000: [ 2.24106564 20.35113776]\n",
      "        Cost: 152.92137454233776\n",
      "\n",
      "        \n",
      "\n",
      "        Iteration 60000: [ 2.19571002 21.73800812]\n",
      "        Cost: 129.54464716203844\n",
      "\n",
      "        \n",
      "\n",
      "        Iteration 65000: [ 2.15286804 23.0484546 ]\n",
      "        Cost: 112.1308789202483\n",
      "\n",
      "        \n",
      "\n",
      "        Iteration 70000: [ 2.11241538 24.28630478]\n",
      "        Cost: 99.84844144527176\n",
      "\n",
      "        \n",
      "\n",
      "        Iteration 75000: [ 2.07423352 25.45520349]\n",
      "        Cost: 91.9602308180655\n",
      "\n",
      "        \n",
      "\n",
      "        Iteration 80000: [ 2.03820954 26.55862117]\n",
      "        Cost: 87.8139349862596\n",
      "\n",
      "        \n",
      "Condition reached: change in cost is 8.938417437320823e-07 which is smaller than 1e-06\n",
      "\n",
      "Solution: [ 2.00954479 27.437106  ]\n",
      "Associated cost: 86.79913941994364\n"
     ]
    }
   ],
   "source": [
    "# TODO: create server and initialize clients, before iteratively updating the consensus variables\n",
    "server = Server(problem)\n",
    "server.connect_clients(partitions) # add parameters and communicate datasets\n",
    "\n",
    "k = 0\n",
    "last_cost = float('infinity')\n",
    "while k < problem.max_iter and server.delta > problem.tol:\n",
    "    consensus = server.consensus.flatten()\n",
    "    \n",
    "    current_cost = cost(consensus, dataset, problem.hyper_parameters)\n",
    "    \n",
    "    if k % 5000 == 0:\n",
    "        print(f'''\n",
    "        Iteration {k}: {consensus}\n",
    "        Cost: {current_cost}\n",
    "\n",
    "        ''')\n",
    "    \n",
    "    # perform new iteration\n",
    "    server.run_iteration(k+1)\n",
    "    \n",
    "    if np.linalg.norm(current_cost - last_cost) < problem.ctol:\n",
    "        print(f\"Condition reached: change in cost is {np.linalg.norm(current_cost - last_cost)} \"\n",
    "              f\"which is smaller than {problem.ctol}\")\n",
    "        last_cost = current_cost\n",
    "        break\n",
    "        \n",
    "    last_cost = current_cost\n",
    "    \n",
    "    k = k + 1\n",
    "    \n",
    "if k >= problem.max_iter and server.delta > problem.tol:\n",
    "    raise Exception(\"Did not converge\")\n",
    "    \n",
    "if server.delta <= problem.tol:\n",
    "    print(f\"Condition reached: change in solution is {server.delta} \"\n",
    "          f\"which is smaller than {problem.tol}\")\n",
    "    \n",
    "solution = server.consensus.flatten()\n",
    "    \n",
    "print(\"\")\n",
    "print(f\"Solution: {solution}\")\n",
    "print(f\"Associated cost: {last_cost}\")"
   ]
  },
  {
   "cell_type": "markdown",
   "id": "b2b1a7d2",
   "metadata": {},
   "source": [
    "## Visualization of the solution"
   ]
  },
  {
   "cell_type": "code",
   "execution_count": 6,
   "id": "397c096f",
   "metadata": {},
   "outputs": [
    {
     "data": {
      "text/plain": [
       "[<matplotlib.lines.Line2D at 0x1958c048310>]"
      ]
     },
     "execution_count": 6,
     "metadata": {},
     "output_type": "execute_result"
    },
    {
     "data": {
      "image/png": "[encoded data removed]",
      "text/plain": [
       "<Figure size 640x480 with 1 Axes>"
      ]
     },
     "metadata": {},
     "output_type": "display_data"
    }
   ],
   "source": [
    "plt.scatter(dataset[:, 0], dataset[:, 1], s=1)\n",
    "plt.plot(dataset[:, 0], solution[0]*dataset[:, 0] + solution[1], c=\"red\")"
   ]
  }
 ],
 "metadata": {
  "kernelspec": {
   "display_name": "Python 3 (ipykernel)",
   "language": "python",
   "name": "python3"
  },
  "language_info": {
   "codemirror_mode": {
    "name": "ipython",
    "version": 3
   },
   "file_extension": ".py",
   "mimetype": "text/x-python",
   "name": "python",
   "nbconvert_exporter": "python",
   "pygments_lexer": "ipython3",
   "version": "3.11.2"
  }
 },
 "nbformat": 4,
 "nbformat_minor": 5
}
