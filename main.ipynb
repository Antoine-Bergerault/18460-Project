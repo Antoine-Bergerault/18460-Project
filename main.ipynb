{
 "cells": [
  {
   "cell_type": "markdown",
   "id": "d6cd9bce",
   "metadata": {},
   "source": [
    "# 18460 Project"
   ]
  },
  {
   "cell_type": "code",
   "execution_count": null,
   "id": "9ba57170",
   "metadata": {
    "scrolled": false
   },
   "outputs": [],
   "source": [
    "%load_ext autoreload\n",
    "%autoreload 2\n",
    "\n",
    "from tasks import *\n",
    "import numpy as np\n",
    "from server import Server"
   ]
  },
  {
   "cell_type": "markdown",
   "id": "71f614cc",
   "metadata": {},
   "source": [
    "First, we initialize the task for a given configuration"
   ]
  },
  {
   "cell_type": "code",
   "execution_count": null,
   "id": "d3a1cc59",
   "metadata": {
    "scrolled": false
   },
   "outputs": [],
   "source": [
    "#task = lrt.LinearRegressionTask(lrt.solo_config) # Linear regression\n",
    "task = ct.CircleTask(ct.solo_config) # Circle"
   ]
  },
  {
   "cell_type": "markdown",
   "id": "46f68e3c",
   "metadata": {},
   "source": [
    "Seeing the data"
   ]
  },
  {
   "cell_type": "code",
   "execution_count": null,
   "id": "61bf9292",
   "metadata": {
    "scrolled": false
   },
   "outputs": [],
   "source": [
    "task.visualize()"
   ]
  },
  {
   "cell_type": "markdown",
   "id": "e067e65f",
   "metadata": {},
   "source": [
    "Then, we define our optimization problem"
   ]
  },
  {
   "cell_type": "code",
   "execution_count": null,
   "id": "03a66131",
   "metadata": {
    "scrolled": false
   },
   "outputs": [],
   "source": [
    "problem = task.get_problem()\n",
    "partitions = task.get_partitions()"
   ]
  },
  {
   "cell_type": "markdown",
   "id": "fb1f0fc6",
   "metadata": {},
   "source": [
    "Solve iteratively using federated learning"
   ]
  },
  {
   "cell_type": "code",
   "execution_count": null,
   "id": "3c0da685",
   "metadata": {
    "scrolled": true
   },
   "outputs": [],
   "source": [
    "# Create server and initialize clients, before iteratively updating the consensus variables\n",
    "server = Server(problem)\n",
    "server.connect_clients(partitions) # add parameters and communicate datasets\n",
    "\n",
    "k = 0\n",
    "last_cost = float('infinity')\n",
    "while k < problem.max_iter and server.delta > problem.tol:\n",
    "    consensus = server.consensus.flatten()\n",
    "    \n",
    "    current_cost = problem.loss(consensus, task.dataset, problem.hyper_parameters)\n",
    "    \n",
    "    if k % 500 == 0:\n",
    "        print(f'''\n",
    "        Iteration {k}: {consensus}\n",
    "        Cost: {current_cost}\n",
    "\n",
    "        ''')\n",
    "    \n",
    "    # perform new iteration\n",
    "    server.run_iteration(k+1)\n",
    "    \n",
    "    if np.linalg.norm(current_cost - last_cost) < problem.ctol:\n",
    "        print(f\"Condition reached: change in cost is {np.linalg.norm(current_cost - last_cost)} \"\n",
    "              f\"which is smaller than {problem.ctol}\")\n",
    "        last_cost = current_cost\n",
    "        break\n",
    "        \n",
    "    last_cost = current_cost\n",
    "    \n",
    "    k = k + 1\n",
    "    \n",
    "if k >= problem.max_iter and server.delta > problem.tol:\n",
    "    raise Exception(\"Did not converge\")\n",
    "    \n",
    "if server.delta <= problem.tol:\n",
    "    print(f\"Condition reached: change in solution is {server.delta} \"\n",
    "          f\"which is smaller than {problem.tol}\")\n",
    "    \n",
    "solution = server.consensus.flatten()\n",
    "    \n",
    "print(\"\")\n",
    "print(f\"Solution: {solution}\")\n",
    "print(f\"Associated cost: {last_cost}\")\n",
    "print(f\"Achieved in {k} iterations\")"
   ]
  },
  {
   "cell_type": "markdown",
   "id": "b2b1a7d2",
   "metadata": {},
   "source": [
    "## Visualization of the solution"
   ]
  },
  {
   "cell_type": "code",
   "execution_count": null,
   "id": "397c096f",
   "metadata": {
    "scrolled": false
   },
   "outputs": [],
   "source": [
    "task.visualize_solution(solution)"
   ]
  },
  {
   "cell_type": "code",
   "execution_count": null,
   "id": "2069753b",
   "metadata": {},
   "outputs": [],
   "source": []
  }
 ],
 "metadata": {
  "kernelspec": {
   "display_name": "Python 3 (ipykernel)",
   "language": "python",
   "name": "python3"
  },
  "language_info": {
   "codemirror_mode": {
    "name": "ipython",
    "version": 3
   },
   "file_extension": ".py",
   "mimetype": "text/x-python",
   "name": "python",
   "nbconvert_exporter": "python",
   "pygments_lexer": "ipython3",
   "version": "3.11.2"
  }
 },
 "nbformat": 4,
 "nbformat_minor": 5
}
