{
 "cells": [
  {
   "cell_type": "markdown",
   "id": "d6cd9bce",
   "metadata": {},
   "source": [
    "# 18460 Project"
   ]
  },
  {
   "cell_type": "code",
   "execution_count": 1,
   "id": "9ba57170",
   "metadata": {},
   "outputs": [],
   "source": [
    "from client import *\n",
    "import numpy as np\n",
    "from problem import *\n",
    "from server import *"
   ]
  },
  {
   "cell_type": "markdown",
   "id": "46f68e3c",
   "metadata": {},
   "source": [
    "First, we load the dataset and partition it"
   ]
  },
  {
   "cell_type": "code",
   "execution_count": 2,
   "id": "61bf9292",
   "metadata": {},
   "outputs": [],
   "source": [
    "# TODO: load (and format) and partition dataset"
   ]
  },
  {
   "cell_type": "markdown",
   "id": "e067e65f",
   "metadata": {},
   "source": [
    "Then, we define our optimization problem"
   ]
  },
  {
   "cell_type": "code",
   "execution_count": 3,
   "id": "03a66131",
   "metadata": {},
   "outputs": [],
   "source": [
    "# TODO: define cost functions and optimization hyperparameters\n",
    "\n",
    "hyper_parameters = {\n",
    "    # Symmetric PSD matrix\n",
    "    \"Q\": np.array([\n",
    "        [1, 2],\n",
    "        [2, 1]\n",
    "    ]),\n",
    "    \"penalty\": 10\n",
    "}\n",
    "\n",
    "# simple quadratic cost\n",
    "def cost(x, params):\n",
    "    return x.T @ params[\"Q\"] @ x\n",
    "\n",
    "def cost_grad(x, params):\n",
    "    return 2 * params[\"Q\"] @ x\n",
    "\n",
    "def cost_hessian(x, params):\n",
    "    return 2 * params[\"Q\"]\n",
    "\n",
    "problem = OptimizationProblem(tol=1e-3, max_iter=300, loss=cost, loss_grad=cost_grad, \n",
    "                              loss_hessian=cost_hessian, hyper_parameters=hyper_parameters)"
   ]
  },
  {
   "cell_type": "markdown",
   "id": "fb1f0fc6",
   "metadata": {},
   "source": [
    "Solve iteratively using federated learning"
   ]
  },
  {
   "cell_type": "code",
   "execution_count": 4,
   "id": "3c0da685",
   "metadata": {},
   "outputs": [
    {
     "ename": "RuntimeError",
     "evalue": "No clients initialized for the server, cannot update consensus",
     "output_type": "error",
     "traceback": [
      "\u001b[1;31m---------------------------------------------------------------------------\u001b[0m",
      "\u001b[1;31mRuntimeError\u001b[0m                              Traceback (most recent call last)",
      "Cell \u001b[1;32mIn[4], line 8\u001b[0m\n\u001b[0;32m      5\u001b[0m k \u001b[38;5;241m=\u001b[39m \u001b[38;5;241m0\u001b[39m\n\u001b[0;32m      6\u001b[0m \u001b[38;5;28;01mwhile\u001b[39;00m k \u001b[38;5;241m<\u001b[39m problem\u001b[38;5;241m.\u001b[39mmax_iter \u001b[38;5;129;01mand\u001b[39;00m server\u001b[38;5;241m.\u001b[39mdelta \u001b[38;5;241m>\u001b[39m problem\u001b[38;5;241m.\u001b[39mtol:\n\u001b[0;32m      7\u001b[0m     \u001b[38;5;66;03m# perform new iteration\u001b[39;00m\n\u001b[1;32m----> 8\u001b[0m     server\u001b[38;5;241m.\u001b[39mrun_iteration()\n\u001b[0;32m     10\u001b[0m     k \u001b[38;5;241m=\u001b[39m k \u001b[38;5;241m+\u001b[39m \u001b[38;5;241m1\u001b[39m\n\u001b[0;32m     12\u001b[0m \u001b[38;5;28;01mif\u001b[39;00m server\u001b[38;5;241m.\u001b[39mdelta \u001b[38;5;241m>\u001b[39m problem\u001b[38;5;241m.\u001b[39mtol:\n",
      "File \u001b[1;32m~\\OneDrive\\Antoine\\cours\\2022-2023\\Spring 2023\\18460\\Project\\18460-Project\\server.py:35\u001b[0m, in \u001b[0;36mServer.run_iteration\u001b[1;34m(self)\u001b[0m\n\u001b[0;32m     29\u001b[0m duals \u001b[38;5;241m=\u001b[39m np\u001b[38;5;241m.\u001b[39mzeros((\u001b[38;5;28mlen\u001b[39m(\u001b[38;5;28mself\u001b[39m\u001b[38;5;241m.\u001b[39mclients), \u001b[38;5;241m*\u001b[39m\u001b[38;5;28mself\u001b[39m\u001b[38;5;241m.\u001b[39mconsensus\u001b[38;5;241m.\u001b[39mshape))\n\u001b[0;32m     31\u001b[0m \u001b[38;5;66;03m# TODO: update clients and get primals and duals\u001b[39;00m\n\u001b[0;32m     32\u001b[0m \u001b[38;5;66;03m# primals[i] - primals of client i\u001b[39;00m\n\u001b[0;32m     33\u001b[0m \u001b[38;5;66;03m# duals[i] - duals of client i\u001b[39;00m\n\u001b[1;32m---> 35\u001b[0m \u001b[38;5;28mself\u001b[39m\u001b[38;5;241m.\u001b[39mupdate_consensus(primals, duals)\n",
      "File \u001b[1;32m~\\OneDrive\\Antoine\\cours\\2022-2023\\Spring 2023\\18460\\Project\\18460-Project\\server.py:40\u001b[0m, in \u001b[0;36mServer.update_consensus\u001b[1;34m(self, primals, duals)\u001b[0m\n\u001b[0;32m     38\u001b[0m \u001b[38;5;28;01mdef\u001b[39;00m \u001b[38;5;21mupdate_consensus\u001b[39m(\u001b[38;5;28mself\u001b[39m, primals, duals):\n\u001b[0;32m     39\u001b[0m     \u001b[38;5;28;01mif\u001b[39;00m \u001b[38;5;28mlen\u001b[39m(\u001b[38;5;28mself\u001b[39m\u001b[38;5;241m.\u001b[39mclients) \u001b[38;5;241m==\u001b[39m \u001b[38;5;241m0\u001b[39m:\n\u001b[1;32m---> 40\u001b[0m         \u001b[38;5;28;01mraise\u001b[39;00m \u001b[38;5;167;01mRuntimeError\u001b[39;00m(\u001b[38;5;124m\"\u001b[39m\u001b[38;5;124mNo clients initialized for the server, cannot update consensus\u001b[39m\u001b[38;5;124m\"\u001b[39m)\n\u001b[0;32m     42\u001b[0m     previous \u001b[38;5;241m=\u001b[39m \u001b[38;5;28mself\u001b[39m\u001b[38;5;241m.\u001b[39mconsensus \n\u001b[0;32m     43\u001b[0m     \u001b[38;5;28mself\u001b[39m\u001b[38;5;241m.\u001b[39mconsensus \u001b[38;5;241m=\u001b[39m np\u001b[38;5;241m.\u001b[39msum(primals, axis\u001b[38;5;241m=\u001b[39m\u001b[38;5;241m0\u001b[39m) \u001b[38;5;241m/\u001b[39m \u001b[38;5;28mlen\u001b[39m(\u001b[38;5;28mself\u001b[39m\u001b[38;5;241m.\u001b[39mclients) \u001b[38;5;241m-\u001b[39m np\u001b[38;5;241m.\u001b[39msum(duals, axis\u001b[38;5;241m=\u001b[39m\u001b[38;5;241m0\u001b[39m) \u001b[38;5;241m/\u001b[39m (\u001b[38;5;28mself\u001b[39m\u001b[38;5;241m.\u001b[39mproblem\u001b[38;5;241m.\u001b[39mhyper_parameters\u001b[38;5;241m.\u001b[39mpenalty \u001b[38;5;241m*\u001b[39m \u001b[38;5;28mlen\u001b[39m(\u001b[38;5;28mself\u001b[39m\u001b[38;5;241m.\u001b[39mclients))\n",
      "\u001b[1;31mRuntimeError\u001b[0m: No clients initialized for the server, cannot update consensus"
     ]
    }
   ],
   "source": [
    "# TODO: create server and initialize clients, before iteratively updating the consensus variables\n",
    "server = Server(problem)\n",
    "server.connect_clients() # add parameters and communicate datasets\n",
    "\n",
    "k = 0\n",
    "while k < problem.max_iter and server.delta > problem.tol:\n",
    "    # perform new iteration\n",
    "    server.run_iteration()\n",
    "    \n",
    "    k = k + 1\n",
    "    \n",
    "if server.delta > problem.tol:\n",
    "    raise Exception(\"Did not converge\")"
   ]
  }
 ],
 "metadata": {
  "kernelspec": {
   "display_name": "Python 3 (ipykernel)",
   "language": "python",
   "name": "python3"
  },
  "language_info": {
   "codemirror_mode": {
    "name": "ipython",
    "version": 3
   },
   "file_extension": ".py",
   "mimetype": "text/x-python",
   "name": "python",
   "nbconvert_exporter": "python",
   "pygments_lexer": "ipython3",
   "version": "3.11.2"
  }
 },
 "nbformat": 4,
 "nbformat_minor": 5
}
