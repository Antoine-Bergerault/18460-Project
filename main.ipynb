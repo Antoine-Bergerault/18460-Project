{
 "cells": [
  {
   "cell_type": "markdown",
   "id": "d6cd9bce",
   "metadata": {},
   "source": [
    "# 18460 Project"
   ]
  },
  {
   "cell_type": "code",
   "execution_count": 1,
   "id": "9ba57170",
   "metadata": {},
   "outputs": [],
   "source": [
    "from client import *\n",
    "from problem import *\n",
    "from server import *"
   ]
  },
  {
   "cell_type": "markdown",
   "id": "46f68e3c",
   "metadata": {},
   "source": [
    "First, we load the dataset and partition it"
   ]
  },
  {
   "cell_type": "code",
   "execution_count": 2,
   "id": "61bf9292",
   "metadata": {},
   "outputs": [],
   "source": [
    "# TODO: load (and format) and partition dataset"
   ]
  },
  {
   "cell_type": "markdown",
   "id": "e067e65f",
   "metadata": {},
   "source": [
    "Then, we define our optimization problem"
   ]
  },
  {
   "cell_type": "code",
   "execution_count": 3,
   "id": "03a66131",
   "metadata": {},
   "outputs": [],
   "source": [
    "# TODO: define cost functions and optimization hyperparameters\n",
    "problem = OptimizationProblem(tol=1e-3, max_iter=300) # add more parameters"
   ]
  },
  {
   "cell_type": "markdown",
   "id": "fb1f0fc6",
   "metadata": {},
   "source": [
    "Solve iteratively using federated learning"
   ]
  },
  {
   "cell_type": "code",
   "execution_count": 4,
   "id": "3c0da685",
   "metadata": {},
   "outputs": [
    {
     "ename": "Exception",
     "evalue": "Did not converge",
     "output_type": "error",
     "traceback": [
      "\u001b[1;31m---------------------------------------------------------------------------\u001b[0m",
      "\u001b[1;31mException\u001b[0m                                 Traceback (most recent call last)",
      "Cell \u001b[1;32mIn[4], line 13\u001b[0m\n\u001b[0;32m     10\u001b[0m     k \u001b[38;5;241m=\u001b[39m k \u001b[38;5;241m+\u001b[39m \u001b[38;5;241m1\u001b[39m\n\u001b[0;32m     12\u001b[0m \u001b[38;5;28;01mif\u001b[39;00m server\u001b[38;5;241m.\u001b[39mdelta \u001b[38;5;241m>\u001b[39m problem\u001b[38;5;241m.\u001b[39mtol:\n\u001b[1;32m---> 13\u001b[0m     \u001b[38;5;28;01mraise\u001b[39;00m \u001b[38;5;167;01mException\u001b[39;00m(\u001b[38;5;124m\"\u001b[39m\u001b[38;5;124mDid not converge\u001b[39m\u001b[38;5;124m\"\u001b[39m)\n",
      "\u001b[1;31mException\u001b[0m: Did not converge"
     ]
    }
   ],
   "source": [
    "# TODO: create server and initialize clients, before iteratively updating the consensus variables\n",
    "server = Server() # add parameters\n",
    "server.connect_clients() # add parameters and communicate datasets\n",
    "\n",
    "k = 0\n",
    "while k < problem.max_iter and server.delta > problem.tol:\n",
    "    # perform new iteration\n",
    "    server.run_iteration()\n",
    "    \n",
    "    k = k + 1\n",
    "    \n",
    "if server.delta > problem.tol:\n",
    "    raise Exception(\"Did not converge\")"
   ]
  }
 ],
 "metadata": {
  "kernelspec": {
   "display_name": "Python 3 (ipykernel)",
   "language": "python",
   "name": "python3"
  },
  "language_info": {
   "codemirror_mode": {
    "name": "ipython",
    "version": 3
   },
   "file_extension": ".py",
   "mimetype": "text/x-python",
   "name": "python",
   "nbconvert_exporter": "python",
   "pygments_lexer": "ipython3",
   "version": "3.11.2"
  }
 },
 "nbformat": 4,
 "nbformat_minor": 5
}
